{
  "nbformat": 4,
  "nbformat_minor": 0,
  "metadata": {
    "colab": {
      "private_outputs": true,
      "provenance": [],
      "authorship_tag": "ABX9TyNcoWQq+ZwbzcOgSE+zKA2I",
      "include_colab_link": true
    },
    "kernelspec": {
      "name": "python3",
      "display_name": "Python 3"
    },
    "language_info": {
      "name": "python"
    }
  },
  "cells": [
    {
      "cell_type": "markdown",
      "metadata": {
        "id": "view-in-github",
        "colab_type": "text"
      },
      "source": [
        "<a href=\"https://colab.research.google.com/github/Ragavan1303/EinsteinFieldEquations/blob/main/5_Raster_Clipped.ipynb\" target=\"_parent\"><img src=\"https://colab.research.google.com/assets/colab-badge.svg\" alt=\"Open In Colab\"/></a>"
      ]
    },
    {
      "cell_type": "code",
      "execution_count": null,
      "metadata": {
        "id": "-8ukfrkNICq3"
      },
      "outputs": [],
      "source": [
        "!pip install rasterio geopandas shapely fiona matplotlib\n",
        "\n",
        "import os\n",
        "import zipfile\n",
        "import rasterio\n",
        "import geopandas as gpd\n",
        "import numpy as np\n",
        "import matplotlib.pyplot as plt\n",
        "from rasterio.mask import mask\n",
        "from google.colab import files\n",
        "import fiona\n",
        "import rasterio\n",
        "import geopandas as gpd\n",
        "import numpy as np\n",
        "import matplotlib.pyplot as plt\n",
        "from rasterio.mask import mask\n",
        "import os\n",
        "import shutil\n",
        "\n"
      ]
    },
    {
      "cell_type": "code",
      "source": [
        "def upload_files():\n",
        "  uploaded = files.upload()\n",
        "  return list(uploaded.keys())\n",
        "\n",
        "# Step 1: Upload the raster files\n",
        "print(\"Upload your five raster (.tif) files:\")\n",
        "raster_files = upload_files()\n",
        "if len(raster_files) != 5:\n",
        "    raise ValueError(\"Please upload exactly five raster files.\")\n",
        "\n",
        "# Step 2: Upload the shapefile (as a ZIP)\n",
        "print(\"Upload your shapefile (.zip) file:\")\n",
        "shapefile_zip = upload_files()[0]\n",
        "\n",
        "# Check if the uploaded file is a zip file\n",
        "if not shapefile_zip.lower().endswith(\".zip\"):\n",
        "    raise ValueError(\"Uploaded shapefile is not a ZIP file.\")\n",
        "\n",
        "# Step 3: Extract the shapefile\n",
        "shapefile_dir = \"shapefile\"\n",
        "os.makedirs(shapefile_dir, exist_ok=True)\n",
        "with zipfile.ZipFile(shapefile_zip, 'r') as zip_ref:\n",
        "    zip_ref.extractall(shapefile_dir)\n",
        "\n",
        "# Recursively search for .shp file inside the extracted folder\n",
        "shapefile_path = None\n",
        "for root, _, files in os.walk(shapefile_dir):\n",
        "    for file in files:\n",
        "        if file.endswith(\".shp\"):\n",
        "            shapefile_path = os.path.join(root, file)\n",
        "            break\n",
        "    if shapefile_path:\n",
        "        break\n",
        "if shapefile_path is None:\n",
        "    raise FileNotFoundError(\"No .shp file found in the uploaded ZIP.\")\n",
        "\n",
        "# Step 4: Process each raster file\n",
        "for raster_path in raster_files:\n",
        "    try:\n",
        "        # Read the shapefile\n",
        "        shapefile = gpd.read_file(shapefile_path)\n",
        "\n",
        "        # Read the raster data\n",
        "        with rasterio.open(raster_path) as src:\n",
        "            out_image, out_transform = mask(src, shapefile.geometry, crop=True)\n",
        "            out_meta = src.meta.copy()\n",
        "\n",
        "        # Update metadata\n",
        "        out_meta.update({\"driver\": \"GTiff\",\n",
        "                         \"height\": out_image.shape[1],\n",
        "                         \"width\": out_image.shape[2],\n",
        "                         \"transform\": out_transform})\n",
        "\n",
        "        # Define output filename\n",
        "        output_filename = os.path.splitext(raster_path)[0] + \"_clipped.tif\"\n",
        "\n",
        "        # Write the clipped raster\n",
        "        with rasterio.open(output_filename, \"w\", **out_meta) as dest:\n",
        "            dest.write(out_image)\n",
        "        print(f\"Clipped raster saved as: {output_filename}\")\n",
        "\n",
        "    except Exception as e:\n",
        "        print(f\"Error processing {raster_path}: {e}\")\n"
      ],
      "metadata": {
        "id": "H6e2Qak6IOlt"
      },
      "execution_count": null,
      "outputs": []
    }
  ]
}